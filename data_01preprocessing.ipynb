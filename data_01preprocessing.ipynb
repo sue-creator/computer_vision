{
 "cells": [
  {
   "cell_type": "code",
   "execution_count": 1,
   "id": "a5de14cd-a3ad-4529-ad1c-5adbc4cf386f",
   "metadata": {
    "tags": []
   },
   "outputs": [
    {
     "name": "stderr",
     "output_type": "stream",
     "text": [
      "objc[4416]: Class CaptureDelegate is implemented in both /Users/user/miniforge3/envs/tensorflow/lib/python3.9/site-packages/cv2/cv2.abi3.so (0x11fa06840) and /Users/user/miniforge3/envs/tensorflow/lib/python3.9/site-packages/mediapipe/.dylibs/libopencv_videoio.3.4.16.dylib (0x121f7c860). One of the two will be used. Which one is undefined.\n",
      "objc[4416]: Class CVWindow is implemented in both /Users/user/miniforge3/envs/tensorflow/lib/python3.9/site-packages/cv2/cv2.abi3.so (0x11fa06890) and /Users/user/miniforge3/envs/tensorflow/lib/python3.9/site-packages/mediapipe/.dylibs/libopencv_highgui.3.4.16.dylib (0x120598a68). One of the two will be used. Which one is undefined.\n",
      "objc[4416]: Class CVView is implemented in both /Users/user/miniforge3/envs/tensorflow/lib/python3.9/site-packages/cv2/cv2.abi3.so (0x11fa068b8) and /Users/user/miniforge3/envs/tensorflow/lib/python3.9/site-packages/mediapipe/.dylibs/libopencv_highgui.3.4.16.dylib (0x120598a90). One of the two will be used. Which one is undefined.\n",
      "objc[4416]: Class CVSlider is implemented in both /Users/user/miniforge3/envs/tensorflow/lib/python3.9/site-packages/cv2/cv2.abi3.so (0x11fa068e0) and /Users/user/miniforge3/envs/tensorflow/lib/python3.9/site-packages/mediapipe/.dylibs/libopencv_highgui.3.4.16.dylib (0x120598ab8). One of the two will be used. Which one is undefined.\n"
     ]
    },
    {
     "data": {
      "text/plain": [
       "{'divide': 'warn', 'over': 'warn', 'under': 'ignore', 'invalid': 'warn'}"
      ]
     },
     "execution_count": 1,
     "metadata": {},
     "output_type": "execute_result"
    }
   ],
   "source": [
    "import cv2\n",
    "import mediapipe as mp\n",
    "import numpy as np\n",
    "import time, os\n",
    "from tqdm import tqdm\n",
    "import gc\n",
    "\n",
    "np.seterr(divide='ignore', invalid='ignore')"
   ]
  },
  {
   "cell_type": "code",
   "execution_count": 2,
   "id": "ac962574-489c-4113-9026-c9be495af9c9",
   "metadata": {},
   "outputs": [],
   "source": [
    "import pandas as pd\n",
    "trainpath = \"/Users/user/PycharmProjects/DL_hands/open/train/\"\n",
    "df = pd.read_csv(\"/Users/user/PycharmProjects/DL_hands/open/train.csv\")"
   ]
  },
  {
   "cell_type": "code",
   "execution_count": 3,
   "id": "9fd99a07-71a5-41e7-a8cb-8a33e77508d0",
   "metadata": {},
   "outputs": [],
   "source": [
    "def fileload(num):\n",
    "    path = trainpath\n",
    "    filename = \"\"\n",
    "    if num<10:\n",
    "        filename = \"TRAIN_\"+\"00\"+str(num)+\".mp4\"\n",
    "    elif num<100:\n",
    "        filename = \"TRAIN_\"+\"0\"+ str(num)+ \".mp4\"\n",
    "    else:\n",
    "        filename = \"TRAIN_\"+ str(num)+ \".mp4\"\n",
    "\n",
    "    cap = cv2.VideoCapture(path + filename)\n",
    "    #width = cap.get(cv2.CAP_PROP_FRAME_WIDTH)\n",
    "    #height = cap.get(cv2.CAP_PROP_FRAME_HEIGHT)\n",
    "    frames = cap.get(cv2.CAP_PROP_FRAME_COUNT)\n",
    "    #fps = cap.get(cv2.CAP_PROP_FPS)\n",
    "    \n",
    "    return cap"
   ]
  },
  {
   "cell_type": "code",
   "execution_count": 4,
   "id": "440d1750-6a33-4b7f-b9d5-cd65f437223b",
   "metadata": {},
   "outputs": [],
   "source": [
    "mpHands = mp.solutions.hands\n",
    "hands = mpHands.Hands(max_num_hands=1,\n",
    "                      min_detection_confidence=0.5,\n",
    "                      min_tracking_confidence=0.5)\n",
    "mpDraw = mp.solutions.drawing_utils"
   ]
  },
  {
   "cell_type": "code",
   "execution_count": 5,
   "id": "a519fedf-9e6d-4eee-b023-937f20e13c6a",
   "metadata": {},
   "outputs": [
    {
     "name": "stdout",
     "output_type": "stream",
     "text": [
      "/Users/user/PycharmProjects/DL_hands/open/train\n"
     ]
    },
    {
     "name": "stderr",
     "output_type": "stream",
     "text": [
      "INFO: Created TensorFlow Lite XNNPACK delegate for CPU.\n"
     ]
    }
   ],
   "source": [
    "cd /Users/user/PycharmProjects/DL_hands/open/train"
   ]
  },
  {
   "cell_type": "code",
   "execution_count": 6,
   "id": "272808a7-505f-46fd-9255-f46147185c74",
   "metadata": {},
   "outputs": [],
   "source": [
    "def play(cap):\n",
    "    data = np.array([])\n",
    "    found = 0\n",
    "\n",
    "    while cap.isOpened():\n",
    "        ret, img = cap.read()\n",
    "\n",
    "        if ret:\n",
    "            \n",
    "            imgRGB = cv2.cvtColor(img, cv2.COLOR_BGR2RGB)\n",
    "            results = hands.process(imgRGB)\n",
    "            h, w, c = img.shape\n",
    "\n",
    "            ###### Data \n",
    "            if results.multi_hand_landmarks:\n",
    "                found += 1\n",
    "                for res in results.multi_hand_landmarks:\n",
    "                    mpDraw.draw_landmarks(img, res, mpHands.HAND_CONNECTIONS)\n",
    "                    joint = np.zeros((21, 3))\n",
    "                    for id, lm in enumerate(res.landmark):\n",
    "                        joint[id] = [lm.x, lm.y, lm.z]\n",
    "\n",
    "                    # Compute Angles (1) (2) (3) Fingers\n",
    "                    v1 = joint[[0,1,2,3,0,5,6,7,0,9,10,11,0,13,14,15,0,17,18,19], :3] # Parent joint\n",
    "                    v2 = joint[[1,2,3,4,5,6,7,8,9,10,11,12,13,14,15,16,17,18,19,20], :3] # Child joint\n",
    "                    v = v2 - v1\n",
    "\n",
    "                    v = v / np.linalg.norm(v, axis=1)[:, np.newaxis]\n",
    "\n",
    "                    angle = np.arccos(np.einsum('nt,nt->n',\n",
    "                        v[[0,1,2,4,5,6,8,9,10,12,13,14,16,17,18],:], \n",
    "                        v[[1,2,3,5,6,7,9,10,11,13,14,15,17,18,19],:])) # (15,0)\n",
    "                    \n",
    "                    # rad 2 deg\n",
    "                    angle = np.degrees(angle)\n",
    "                    angle = np.array(angle, dtype=np.int32)\n",
    "\n",
    "                    tmp = np.array([angle])\n",
    "                    tmp = tmp.flatten()\n",
    "                    data = np.append(data, tmp)\n",
    "            else:\n",
    "                tmp = np.zeros(15)\n",
    "                tmp[:] = np.NaN\n",
    "                data = np.append(data, tmp)\n",
    "                    \n",
    "        else:\n",
    "            cap.release()\n",
    "            break\n",
    "\n",
    "        #cv2.imshow(\"Image\", img)\n",
    "        #cv2.waitKey(1)\n",
    "        #cv2.destroyAllWindows()\n",
    "    return np.array(data, dtype=np.int32), found"
   ]
  },
  {
   "cell_type": "code",
   "execution_count": 7,
   "id": "f56aea98-60ca-44bd-bb60-456a776137cc",
   "metadata": {
    "tags": []
   },
   "outputs": [],
   "source": [
    "#filetotal = len(os.listdir(trainpath))\n",
    "filetotal = 610"
   ]
  },
  {
   "cell_type": "code",
   "execution_count": 8,
   "id": "eb45d143-1b1c-4014-9ef4-97db2ba4a272",
   "metadata": {},
   "outputs": [],
   "source": [
    "df['found'] = np.zeros(filetotal)"
   ]
  },
  {
   "cell_type": "code",
   "execution_count": 9,
   "id": "9a9dc1ed-c04c-4da1-9b57-680b1bcaddcc",
   "metadata": {},
   "outputs": [],
   "source": [
    "def npsave(n):\n",
    "    tmp, found = play(fileload(n))\n",
    "    df['found'][n] = int(found)\n",
    "    if (len(tmp) > 0):\n",
    "        if n<10:\n",
    "            with open('/Users/user/PycharmProjects/DL_hands/open/data3/fingers_info00'+str(n), \"wb\") as f:\n",
    "                np.save(f, tmp)\n",
    "        elif n<100:\n",
    "            with open('/Users/user/PycharmProjects/DL_hands/open/data3/fingers_info0'+str(n), \"wb\") as f:\n",
    "                np.save(f, tmp)\n",
    "        else:\n",
    "            with open('/Users/user/PycharmProjects/DL_hands/open/data3/fingers_info'+str(n), \"wb\") as f:\n",
    "                np.save(f, tmp)\n",
    "        return None\n",
    "    else:\n",
    "        return n"
   ]
  },
  {
   "cell_type": "code",
   "execution_count": 10,
   "id": "3f60e3de-44c5-4a29-94fa-6f6052ca3bc6",
   "metadata": {},
   "outputs": [
    {
     "name": "stderr",
     "output_type": "stream",
     "text": [
      "  0%|                                                   | 0/610 [00:00<?, ?it/s]/var/folders/np/rt2hjxz968lf34_lfd897zp00000gn/T/ipykernel_4416/4180892090.py:3: SettingWithCopyWarning: \n",
      "A value is trying to be set on a copy of a slice from a DataFrame\n",
      "\n",
      "See the caveats in the documentation: https://pandas.pydata.org/pandas-docs/stable/user_guide/indexing.html#returning-a-view-versus-a-copy\n",
      "  df['found'][n] = int(found)\n",
      "100%|█████████████████████████████████████████| 610/610 [04:00<00:00,  2.54it/s]\n"
     ]
    }
   ],
   "source": [
    "for i in tqdm(range(filetotal)):\n",
    "    num = npsave(i)"
   ]
  },
  {
   "cell_type": "code",
   "execution_count": 11,
   "id": "62b445d5-2dfc-45c0-ad78-aa5d25372d64",
   "metadata": {},
   "outputs": [
    {
     "data": {
      "text/html": [
       "<div>\n",
       "<style scoped>\n",
       "    .dataframe tbody tr th:only-of-type {\n",
       "        vertical-align: middle;\n",
       "    }\n",
       "\n",
       "    .dataframe tbody tr th {\n",
       "        vertical-align: top;\n",
       "    }\n",
       "\n",
       "    .dataframe thead th {\n",
       "        text-align: right;\n",
       "    }\n",
       "</style>\n",
       "<table border=\"1\" class=\"dataframe\">\n",
       "  <thead>\n",
       "    <tr style=\"text-align: right;\">\n",
       "      <th></th>\n",
       "      <th>id</th>\n",
       "      <th>path</th>\n",
       "      <th>label</th>\n",
       "      <th>found</th>\n",
       "    </tr>\n",
       "  </thead>\n",
       "  <tbody>\n",
       "    <tr>\n",
       "      <th>0</th>\n",
       "      <td>TRAIN_000</td>\n",
       "      <td>./train/TRAIN_000.mp4</td>\n",
       "      <td>3</td>\n",
       "      <td>30.0</td>\n",
       "    </tr>\n",
       "    <tr>\n",
       "      <th>1</th>\n",
       "      <td>TRAIN_001</td>\n",
       "      <td>./train/TRAIN_001.mp4</td>\n",
       "      <td>0</td>\n",
       "      <td>29.0</td>\n",
       "    </tr>\n",
       "    <tr>\n",
       "      <th>2</th>\n",
       "      <td>TRAIN_002</td>\n",
       "      <td>./train/TRAIN_002.mp4</td>\n",
       "      <td>1</td>\n",
       "      <td>30.0</td>\n",
       "    </tr>\n",
       "    <tr>\n",
       "      <th>3</th>\n",
       "      <td>TRAIN_003</td>\n",
       "      <td>./train/TRAIN_003.mp4</td>\n",
       "      <td>4</td>\n",
       "      <td>29.0</td>\n",
       "    </tr>\n",
       "    <tr>\n",
       "      <th>4</th>\n",
       "      <td>TRAIN_004</td>\n",
       "      <td>./train/TRAIN_004.mp4</td>\n",
       "      <td>4</td>\n",
       "      <td>29.0</td>\n",
       "    </tr>\n",
       "    <tr>\n",
       "      <th>...</th>\n",
       "      <td>...</td>\n",
       "      <td>...</td>\n",
       "      <td>...</td>\n",
       "      <td>...</td>\n",
       "    </tr>\n",
       "    <tr>\n",
       "      <th>605</th>\n",
       "      <td>TRAIN_605</td>\n",
       "      <td>./train/TRAIN_605.mp4</td>\n",
       "      <td>0</td>\n",
       "      <td>29.0</td>\n",
       "    </tr>\n",
       "    <tr>\n",
       "      <th>606</th>\n",
       "      <td>TRAIN_606</td>\n",
       "      <td>./train/TRAIN_606.mp4</td>\n",
       "      <td>2</td>\n",
       "      <td>26.0</td>\n",
       "    </tr>\n",
       "    <tr>\n",
       "      <th>607</th>\n",
       "      <td>TRAIN_607</td>\n",
       "      <td>./train/TRAIN_607.mp4</td>\n",
       "      <td>1</td>\n",
       "      <td>30.0</td>\n",
       "    </tr>\n",
       "    <tr>\n",
       "      <th>608</th>\n",
       "      <td>TRAIN_608</td>\n",
       "      <td>./train/TRAIN_608.mp4</td>\n",
       "      <td>4</td>\n",
       "      <td>29.0</td>\n",
       "    </tr>\n",
       "    <tr>\n",
       "      <th>609</th>\n",
       "      <td>TRAIN_609</td>\n",
       "      <td>./train/TRAIN_609.mp4</td>\n",
       "      <td>0</td>\n",
       "      <td>29.0</td>\n",
       "    </tr>\n",
       "  </tbody>\n",
       "</table>\n",
       "<p>610 rows × 4 columns</p>\n",
       "</div>"
      ],
      "text/plain": [
       "            id                   path  label  found\n",
       "0    TRAIN_000  ./train/TRAIN_000.mp4      3   30.0\n",
       "1    TRAIN_001  ./train/TRAIN_001.mp4      0   29.0\n",
       "2    TRAIN_002  ./train/TRAIN_002.mp4      1   30.0\n",
       "3    TRAIN_003  ./train/TRAIN_003.mp4      4   29.0\n",
       "4    TRAIN_004  ./train/TRAIN_004.mp4      4   29.0\n",
       "..         ...                    ...    ...    ...\n",
       "605  TRAIN_605  ./train/TRAIN_605.mp4      0   29.0\n",
       "606  TRAIN_606  ./train/TRAIN_606.mp4      2   26.0\n",
       "607  TRAIN_607  ./train/TRAIN_607.mp4      1   30.0\n",
       "608  TRAIN_608  ./train/TRAIN_608.mp4      4   29.0\n",
       "609  TRAIN_609  ./train/TRAIN_609.mp4      0   29.0\n",
       "\n",
       "[610 rows x 4 columns]"
      ]
     },
     "execution_count": 11,
     "metadata": {},
     "output_type": "execute_result"
    }
   ],
   "source": [
    "df"
   ]
  },
  {
   "cell_type": "code",
   "execution_count": 26,
   "id": "acbedfe7-4b01-40a9-bc68-1d67f3f3731c",
   "metadata": {},
   "outputs": [],
   "source": [
    "failed_clips = (df['found'] == 0)\n",
    "df[failed_clips]\n",
    "\n",
    "failed_clips = []\n",
    "for i in range(filetotal):\n",
    "    if df['found'][i] == 0:\n",
    "        failed_clips.append(i)"
   ]
  },
  {
   "cell_type": "code",
   "execution_count": 27,
   "id": "0d684a14-7581-409e-8121-80e126d8655a",
   "metadata": {},
   "outputs": [
    {
     "data": {
      "text/plain": [
       "array([  8,  74,  82, 126, 149, 211, 213, 278, 284, 312, 386, 457, 564])"
      ]
     },
     "execution_count": 27,
     "metadata": {},
     "output_type": "execute_result"
    }
   ],
   "source": [
    "\n",
    "np.array(failed_clips)\n",
    "#failed_clips = [  8,  74,  82, 126, 149, 211, 213, 278, 284, 312, 386, 457, 564]"
   ]
  },
  {
   "cell_type": "code",
   "execution_count": 13,
   "id": "ad6098c5-78e0-4023-ac16-832cae3d805d",
   "metadata": {},
   "outputs": [
    {
     "data": {
      "text/plain": [
       "'\\nfor i in failed_clips:\\n    if npsave(i) == None:\\n        failed_clips.remove(i)\\n        print(i, \"success\")\\n    else:\\n        continue\\n'"
      ]
     },
     "execution_count": 13,
     "metadata": {},
     "output_type": "execute_result"
    }
   ],
   "source": [
    "\"\"\"\n",
    "for i in failed_clips:\n",
    "    if npsave(i) == None:\n",
    "        failed_clips.remove(i)\n",
    "        print(i, \"success\")\n",
    "    else:\n",
    "        continue\n",
    "\"\"\""
   ]
  },
  {
   "cell_type": "code",
   "execution_count": 15,
   "id": "dbf6f3f9-6d88-4b3c-8850-4566f0004be4",
   "metadata": {},
   "outputs": [],
   "source": [
    "def saturate_contrast(p, num):\n",
    "    # num eg) 1.xx \n",
    "    pic = p.copy()\n",
    "    pic = pic.astype('int64')\n",
    "    pic = np.clip(pic*num, 0, 255)\n",
    "    pic = pic.astype('uint8')\n",
    "    return pic"
   ]
  },
  {
   "cell_type": "code",
   "execution_count": 28,
   "id": "9f8bd978-0312-4e45-9b6e-586d38253b75",
   "metadata": {},
   "outputs": [
    {
     "data": {
      "text/plain": [
       "array([  8,  74,  82, 126, 149, 211, 213, 278, 284, 312, 386, 457, 564])"
      ]
     },
     "execution_count": 28,
     "metadata": {},
     "output_type": "execute_result"
    }
   ],
   "source": [
    "np.array(failed_clips)"
   ]
  },
  {
   "cell_type": "code",
   "execution_count": 29,
   "id": "9a6fd2c2-ada6-4e9f-bc4d-bd9774db03a8",
   "metadata": {},
   "outputs": [],
   "source": [
    "def gamma(img, num):\n",
    "    g = num\n",
    "    #g = float(input(\"감마 값 : \"))\n",
    "    out = img.copy()\n",
    "    #out = img.astype(np.float)\n",
    "    out = ((out / 255) ** (1 / g)) * 255\n",
    "    out = out.astype(np.uint8)\n",
    "    return out"
   ]
  },
  {
   "cell_type": "code",
   "execution_count": 30,
   "id": "06f6aa37-ca20-485a-8d1e-6555f38be799",
   "metadata": {},
   "outputs": [],
   "source": [
    "def play_bright(cap, g):\n",
    "    data = np.array([])\n",
    "    found = 0\n",
    "            \n",
    "    while cap.isOpened():\n",
    "        ret, img = cap.read()\n",
    "\n",
    "        if ret:\n",
    "            imgRGB = cv2.cvtColor(img, cv2.COLOR_BGR2RGB)\n",
    "            imgRGB = gamma(imgRGB, g)\n",
    "            #imgRGB = saturate_contrast(imgRGB, 1.1)\n",
    "            results = hands.process(imgRGB)\n",
    "\n",
    "            ###### Data \n",
    "            if results.multi_hand_landmarks:\n",
    "                found += 1\n",
    "                for res in results.multi_hand_landmarks:\n",
    "                    mpDraw.draw_landmarks(img, res, mpHands.HAND_CONNECTIONS)\n",
    "                    joint = np.zeros((21, 3))\n",
    "                    for id, lm in enumerate(res.landmark):\n",
    "                        joint[id] = [lm.x, lm.y, lm.z]\n",
    "\n",
    "                    # Compute Angles (1) (2) (3) Fingers\n",
    "                    v1 = joint[[0,1,2,3,0,5,6,7,0,9,10,11,0,13,14,15,0,17,18,19], :3] # Parent joint\n",
    "                    v2 = joint[[1,2,3,4,5,6,7,8,9,10,11,12,13,14,15,16,17,18,19,20], :3] # Child joint\n",
    "                    v = v2 - v1\n",
    "\n",
    "                    v = v / np.linalg.norm(v, axis=1)[:, np.newaxis]\n",
    "\n",
    "                    angle = np.arccos(np.einsum('nt,nt->n',\n",
    "                        v[[0,1,2,4,5,6,8,9,10,12,13,14,16,17,18],:], \n",
    "                        v[[1,2,3,5,6,7,9,10,11,13,14,15,17,18,19],:])) # (15,0)\n",
    "                    \n",
    "                    # rad 2 deg\n",
    "                    angle = np.degrees(angle)\n",
    "                    angle = np.array(angle, dtype=np.int32)\n",
    "\n",
    "                    tmp = np.array([angle])\n",
    "                    tmp = tmp.flatten()\n",
    "                    data = np.append(data, tmp)\n",
    "            else:\n",
    "                tmp = np.zeros(15)\n",
    "                tmp[:] = np.NaN\n",
    "                data = np.append(data, tmp)\n",
    "                    \n",
    "        else:\n",
    "            cap.release()\n",
    "            break\n",
    "        img2 = cv2.cvtColor(imgRGB, cv2.COLOR_BGR2RGB)\n",
    "        cv2.imshow(\"Image\", img2)\n",
    "        cv2.waitKey(1)\n",
    "        cv2.destroyAllWindows()\n",
    "    return np.array(data, dtype=np.int32), found"
   ]
  },
  {
   "cell_type": "code",
   "execution_count": 31,
   "id": "e1b5d3bc-c3c1-4008-8753-2e7f9cd2b79b",
   "metadata": {},
   "outputs": [],
   "source": [
    "def npsave_bright(n, g):\n",
    "    cp = fileload(n)\n",
    "    tmp, found = play_bright(cp, g)\n",
    "    df['found'][n] = int(found)\n",
    "    \n",
    "    if (len(tmp) > 0):\n",
    "        if n<10:\n",
    "            with open('/Users/user/PycharmProjects/DL_hands/open/data3/fingers_info00'+str(n), \"wb\") as f:\n",
    "                np.save(f, tmp)\n",
    "        elif n<100:\n",
    "            with open('/Users/user/PycharmProjects/DL_hands/open/data3/fingers_info0'+str(n), \"wb\") as f:\n",
    "                np.save(f, tmp)\n",
    "        else:\n",
    "            with open('/Users/user/PycharmProjects/DL_hands/open/data3/fingers_info'+str(n), \"wb\") as f:\n",
    "                np.save(f, tmp)\n",
    "        return None\n",
    "    else:\n",
    "        return n"
   ]
  },
  {
   "cell_type": "code",
   "execution_count": 32,
   "id": "f2bb45c1-698b-4772-953f-fa477a09d71c",
   "metadata": {},
   "outputs": [
    {
     "name": "stderr",
     "output_type": "stream",
     "text": [
      "/var/folders/np/rt2hjxz968lf34_lfd897zp00000gn/T/ipykernel_4416/2068204905.py:4: SettingWithCopyWarning: \n",
      "A value is trying to be set on a copy of a slice from a DataFrame\n",
      "\n",
      "See the caveats in the documentation: https://pandas.pydata.org/pandas-docs/stable/user_guide/indexing.html#returning-a-view-versus-a-copy\n",
      "  df['found'][n] = int(found)\n"
     ]
    }
   ],
   "source": [
    "for i in failed_clips:\n",
    "    for j in range(8, 20):\n",
    "        num = npsave_bright(i, j/10)\n",
    "\n",
    "        if num == None:\n",
    "            failed_clips.remove(i)\n",
    "            break\n"
   ]
  },
  {
   "cell_type": "code",
   "execution_count": 33,
   "id": "d414e03b-2b49-4722-a092-7b68392cca2b",
   "metadata": {
    "tags": []
   },
   "outputs": [
    {
     "data": {
      "text/plain": [
       "[74, 126, 211, 278, 312, 457]"
      ]
     },
     "execution_count": 33,
     "metadata": {},
     "output_type": "execute_result"
    }
   ],
   "source": [
    "failed_clips\n"
   ]
  },
  {
   "cell_type": "code",
   "execution_count": 34,
   "id": "6bf47edd-b414-4e56-921d-8b2e733d4ffc",
   "metadata": {},
   "outputs": [],
   "source": [
    "df.to_pickle(\"/Users/user/PycharmProjects/DL_hands/open/df.pkl\")"
   ]
  },
  {
   "cell_type": "code",
   "execution_count": null,
   "id": "af77770f-eeed-46b5-b9cb-977ab7633b4a",
   "metadata": {},
   "outputs": [],
   "source": []
  }
 ],
 "metadata": {
  "kernelspec": {
   "display_name": "Python 3 (ipykernel)",
   "language": "python",
   "name": "python3"
  },
  "language_info": {
   "codemirror_mode": {
    "name": "ipython",
    "version": 3
   },
   "file_extension": ".py",
   "mimetype": "text/x-python",
   "name": "python",
   "nbconvert_exporter": "python",
   "pygments_lexer": "ipython3",
   "version": "3.9.5"
  }
 },
 "nbformat": 4,
 "nbformat_minor": 5
}
