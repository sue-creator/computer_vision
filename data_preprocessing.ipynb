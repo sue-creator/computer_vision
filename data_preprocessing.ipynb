{
 "cells": [
  {
   "cell_type": "code",
   "execution_count": 1,
   "id": "a5de14cd-a3ad-4529-ad1c-5adbc4cf386f",
   "metadata": {
    "tags": []
   },
   "outputs": [
    {
     "name": "stderr",
     "output_type": "stream",
     "text": [
      "objc[2559]: Class CaptureDelegate is implemented in both /Users/user/miniforge3/envs/tensorflow/lib/python3.9/site-packages/cv2/cv2.abi3.so (0x1465e2840) and /Users/user/miniforge3/envs/tensorflow/lib/python3.9/site-packages/mediapipe/.dylibs/libopencv_videoio.3.4.16.dylib (0x135de4860). One of the two will be used. Which one is undefined.\n",
      "objc[2559]: Class CVWindow is implemented in both /Users/user/miniforge3/envs/tensorflow/lib/python3.9/site-packages/cv2/cv2.abi3.so (0x1465e2890) and /Users/user/miniforge3/envs/tensorflow/lib/python3.9/site-packages/mediapipe/.dylibs/libopencv_highgui.3.4.16.dylib (0x1154aca68). One of the two will be used. Which one is undefined.\n",
      "objc[2559]: Class CVView is implemented in both /Users/user/miniforge3/envs/tensorflow/lib/python3.9/site-packages/cv2/cv2.abi3.so (0x1465e28b8) and /Users/user/miniforge3/envs/tensorflow/lib/python3.9/site-packages/mediapipe/.dylibs/libopencv_highgui.3.4.16.dylib (0x1154aca90). One of the two will be used. Which one is undefined.\n",
      "objc[2559]: Class CVSlider is implemented in both /Users/user/miniforge3/envs/tensorflow/lib/python3.9/site-packages/cv2/cv2.abi3.so (0x1465e28e0) and /Users/user/miniforge3/envs/tensorflow/lib/python3.9/site-packages/mediapipe/.dylibs/libopencv_highgui.3.4.16.dylib (0x1154acab8). One of the two will be used. Which one is undefined.\n"
     ]
    },
    {
     "data": {
      "text/plain": [
       "{'divide': 'warn', 'over': 'warn', 'under': 'ignore', 'invalid': 'warn'}"
      ]
     },
     "execution_count": 1,
     "metadata": {},
     "output_type": "execute_result"
    }
   ],
   "source": [
    "import cv2\n",
    "import mediapipe as mp\n",
    "import numpy as np\n",
    "import time, os\n",
    "from tqdm import tqdm\n",
    "import gc\n",
    "\n",
    "np.seterr(divide='ignore', invalid='ignore')"
   ]
  },
  {
   "cell_type": "code",
   "execution_count": 2,
   "id": "ac962574-489c-4113-9026-c9be495af9c9",
   "metadata": {},
   "outputs": [],
   "source": [
    "#import pandas as pd\n",
    "trainpath = \"/Users/user/PycharmProjects/DL_hands/open/train/\"\n",
    "#df = pd.read_csv(\"/Users/user/PycharmProjects/DL_hands/open/train.csv\")"
   ]
  },
  {
   "cell_type": "code",
   "execution_count": 3,
   "id": "9fd99a07-71a5-41e7-a8cb-8a33e77508d0",
   "metadata": {},
   "outputs": [],
   "source": [
    "def fileload(num):\n",
    "    path = trainpath\n",
    "    filename = \"\"\n",
    "    if num<10:\n",
    "        filename = \"TRAIN_\"+\"00\"+str(num)+\".mp4\"\n",
    "    elif num<100:\n",
    "        filename = \"TRAIN_\"+\"0\"+ str(num)+ \".mp4\"\n",
    "    else:\n",
    "        filename = \"TRAIN_\"+ str(num)+ \".mp4\"\n",
    "\n",
    "    cap = cv2.VideoCapture(path + filename)\n",
    "    #width = cap.get(cv2.CAP_PROP_FRAME_WIDTH)\n",
    "    #height = cap.get(cv2.CAP_PROP_FRAME_HEIGHT)\n",
    "    frames = cap.get(cv2.CAP_PROP_FRAME_COUNT)\n",
    "    #fps = cap.get(cv2.CAP_PROP_FPS)\n",
    "    \n",
    "    return cap"
   ]
  },
  {
   "cell_type": "code",
   "execution_count": 4,
   "id": "440d1750-6a33-4b7f-b9d5-cd65f437223b",
   "metadata": {},
   "outputs": [],
   "source": [
    "mpHands = mp.solutions.hands\n",
    "hands = mpHands.Hands(max_num_hands=1,\n",
    "                      min_detection_confidence=0.5,\n",
    "                      min_tracking_confidence=0.5)\n",
    "mpDraw = mp.solutions.drawing_utils"
   ]
  },
  {
   "cell_type": "code",
   "execution_count": 5,
   "id": "a519fedf-9e6d-4eee-b023-937f20e13c6a",
   "metadata": {},
   "outputs": [
    {
     "name": "stdout",
     "output_type": "stream",
     "text": [
      "/Users/user/PycharmProjects/DL_hands/open/train\n"
     ]
    },
    {
     "name": "stderr",
     "output_type": "stream",
     "text": [
      "INFO: Created TensorFlow Lite XNNPACK delegate for CPU.\n"
     ]
    }
   ],
   "source": [
    "cd /Users/user/PycharmProjects/DL_hands/open/train"
   ]
  },
  {
   "cell_type": "code",
   "execution_count": 100,
   "id": "272808a7-505f-46fd-9255-f46147185c74",
   "metadata": {},
   "outputs": [],
   "source": [
    "def play(cap):\n",
    "    data = np.array([])\n",
    "\n",
    "    while cap.isOpened():\n",
    "        ret, img = cap.read()\n",
    "\n",
    "        if ret:\n",
    "            imgRGB = cv2.cvtColor(img, cv2.COLOR_BGR2RGB)\n",
    "            results = hands.process(imgRGB)\n",
    "            h, w, c = img.shape\n",
    "\n",
    "            ###### Data \n",
    "            if results.multi_hand_landmarks:\n",
    "                for res in results.multi_hand_landmarks:\n",
    "                    mpDraw.draw_landmarks(img, res, mpHands.HAND_CONNECTIONS)\n",
    "                    joint = np.zeros((21, 3))\n",
    "                    for id, lm in enumerate(res.landmark):\n",
    "                        joint[id] = [lm.x, lm.y, lm.z]\n",
    "\n",
    "                    # Compute Angles (1) (2) (3) Fingers\n",
    "                    v1 = joint[[0,1,2,3,0,5,6,7,0,9,10,11,0,13,14,15,0,17,18,19], :3] # Parent joint\n",
    "                    v2 = joint[[1,2,3,4,5,6,7,8,9,10,11,12,13,14,15,16,17,18,19,20], :3] # Child joint\n",
    "                    v = v2 - v1\n",
    "\n",
    "                    v = v / np.linalg.norm(v, axis=1)[:, np.newaxis]\n",
    "\n",
    "                    angle = np.arccos(np.einsum('nt,nt->n',\n",
    "                        v[[0,1,2,4,5,6,8,9,10,12,13,14,16,17,18],:], \n",
    "                        v[[1,2,3,5,6,7,9,10,11,13,14,15,17,18,19],:])) # (15,0)\n",
    "                    \n",
    "                    # rad 2 deg\n",
    "                    angle = np.degrees(angle)\n",
    "                    angle = np.array(angle, dtype=np.int32)\n",
    "\n",
    "                    tmp = np.array([angle])\n",
    "                    tmp = tmp.flatten()\n",
    "                    data = np.append(data, tmp)\n",
    "                    \n",
    "        else:\n",
    "            cap.release()\n",
    "            break\n",
    "\n",
    "        cv2.imshow(\"Image\", img)\n",
    "        cv2.waitKey(1)\n",
    "        cv2.destroyAllWindows()\n",
    "    return np.array(data, dtype=np.int32)"
   ]
  },
  {
   "cell_type": "code",
   "execution_count": 7,
   "id": "f56aea98-60ca-44bd-bb60-456a776137cc",
   "metadata": {
    "tags": []
   },
   "outputs": [],
   "source": [
    "#filetotal = len(os.listdir(trainpath))\n",
    "filetotal = 610"
   ]
  },
  {
   "cell_type": "code",
   "execution_count": 8,
   "id": "9a9dc1ed-c04c-4da1-9b57-680b1bcaddcc",
   "metadata": {},
   "outputs": [],
   "source": [
    "def npsave(n):\n",
    "    tmp = play(fileload(n))\n",
    "    if (len(tmp) > 0):\n",
    "        if n<10:\n",
    "            with open('/Users/user/PycharmProjects/DL_hands/open/data/fingers_info00'+str(n), \"wb\") as f:\n",
    "                np.save(f, tmp)\n",
    "        elif n<100:\n",
    "            with open('/Users/user/PycharmProjects/DL_hands/open/data/fingers_info0'+str(n), \"wb\") as f:\n",
    "                np.save(f, tmp)\n",
    "        else:\n",
    "            with open('/Users/user/PycharmProjects/DL_hands/open/data/fingers_info'+str(n), \"wb\") as f:\n",
    "                np.save(f, tmp)\n",
    "        return None\n",
    "    else:\n",
    "        return n"
   ]
  },
  {
   "cell_type": "code",
   "execution_count": 9,
   "id": "3f60e3de-44c5-4a29-94fa-6f6052ca3bc6",
   "metadata": {},
   "outputs": [
    {
     "name": "stderr",
     "output_type": "stream",
     "text": [
      "100%|█████████████████████████████████████████| 610/610 [03:59<00:00,  2.54it/s]\n"
     ]
    }
   ],
   "source": [
    "failed_clips = []\n",
    "for i in tqdm(range(filetotal)):\n",
    "    num = npsave(i)\n",
    "    \n",
    "    if num != None:\n",
    "        failed_clips.append(num)\n",
    "    \n",
    "    "
   ]
  },
  {
   "cell_type": "code",
   "execution_count": 29,
   "id": "0d684a14-7581-409e-8121-80e126d8655a",
   "metadata": {},
   "outputs": [],
   "source": [
    "np.array(failed_clips)\n",
    "failed_clips = [  8,  74,  82, 126, 149, 211, 213, 278, 284, 312, 386, 457, 564]"
   ]
  },
  {
   "cell_type": "code",
   "execution_count": 11,
   "id": "ad6098c5-78e0-4023-ac16-832cae3d805d",
   "metadata": {},
   "outputs": [
    {
     "data": {
      "text/plain": [
       "'\\nfor i in failed_clips:\\n    if npsave(i) == None:\\n        failed_clips.remove(i)\\n        print(i, \"success\")\\n    else:\\n        continue\\n'"
      ]
     },
     "execution_count": 11,
     "metadata": {},
     "output_type": "execute_result"
    }
   ],
   "source": [
    "\"\"\"\n",
    "for i in failed_clips:\n",
    "    if npsave(i) == None:\n",
    "        failed_clips.remove(i)\n",
    "        print(i, \"success\")\n",
    "    else:\n",
    "        continue\n",
    "\"\"\""
   ]
  },
  {
   "cell_type": "code",
   "execution_count": 12,
   "id": "aba734ec-0de6-4b5b-9af8-4e69c1a4ea67",
   "metadata": {},
   "outputs": [],
   "source": [
    "np.save('fails.npy', failed_clips)"
   ]
  },
  {
   "cell_type": "code",
   "execution_count": 115,
   "id": "dbf6f3f9-6d88-4b3c-8850-4566f0004be4",
   "metadata": {},
   "outputs": [],
   "source": [
    "def saturate_contrast(p, num):\n",
    "    # num eg) 1.xx \n",
    "    pic = p.copy()\n",
    "    pic = pic.astype('int64')\n",
    "    pic = np.clip(pic*num, 0, 255)\n",
    "    pic = pic.astype('uint8')\n",
    "    return pic"
   ]
  },
  {
   "cell_type": "code",
   "execution_count": 116,
   "id": "a9ebfa7b-c6a6-47c0-b706-613c79e8d39e",
   "metadata": {},
   "outputs": [],
   "source": [
    "def play2(cap):\n",
    "    data = np.array([])\n",
    "\n",
    "    while cap.isOpened():\n",
    "        ret, img = cap.read()\n",
    "\n",
    "        if ret:\n",
    "            imgRGB = saturate_contrast(img, 2.5)\n",
    "            imgRGB = cv2.cvtColor(imgRGB, cv2.COLOR_BGR2RGB)\n",
    "            results = hands.process(imgRGB)\n",
    "            h, w, c = img.shape\n",
    "\n",
    "            ###### Data \n",
    "            if results.multi_hand_landmarks:\n",
    "                for res in results.multi_hand_landmarks:\n",
    "                    mpDraw.draw_landmarks(img, res, mpHands.HAND_CONNECTIONS)\n",
    "                    joint = np.zeros((21, 3))\n",
    "                    for id, lm in enumerate(res.landmark):\n",
    "                        joint[id] = [lm.x, lm.y, lm.z]\n",
    "\n",
    "                    # Compute Angles (1) (2) (3) Fingers\n",
    "                    v1 = joint[[0,1,2,3,0,5,6,7,0,9,10,11,0,13,14,15,0,17,18,19], :3] # Parent joint\n",
    "                    v2 = joint[[1,2,3,4,5,6,7,8,9,10,11,12,13,14,15,16,17,18,19,20], :3] # Child joint\n",
    "                    v = v2 - v1\n",
    "\n",
    "                    v = v / np.linalg.norm(v, axis=1)[:, np.newaxis]\n",
    "\n",
    "                    angle = np.arccos(np.einsum('nt,nt->n',\n",
    "                        v[[0,1,2,4,5,6,8,9,10,12,13,14,16,17,18],:], \n",
    "                        v[[1,2,3,5,6,7,9,10,11,13,14,15,17,18,19],:])) # (15,0)\n",
    "                    \n",
    "                    # rad 2 deg\n",
    "                    angle = np.degrees(angle)\n",
    "                    angle = np.array(angle, dtype=np.int32)\n",
    "\n",
    "                    tmp = np.array([angle])\n",
    "                    tmp = tmp.flatten()\n",
    "                    data = np.append(data, tmp)\n",
    "                    \n",
    "        else:\n",
    "            cap.release()\n",
    "            break\n",
    "        img2 = cv2.cvtColor(imgRGB, cv2.COLOR_RGB2BGR)\n",
    "        cv2.imshow(\"Image\", img2)\n",
    "        cv2.waitKey(1)\n",
    "        cv2.destroyAllWindows()\n",
    "    return np.array(data, dtype=np.int32)"
   ]
  },
  {
   "cell_type": "code",
   "execution_count": 117,
   "id": "9edf3445-c90c-493f-a7d8-8df0d560e061",
   "metadata": {},
   "outputs": [],
   "source": [
    "def npsave2(n):\n",
    "    tmp = play2(fileload(n))\n",
    "    if (len(tmp) > 0):\n",
    "        if n<10:\n",
    "            with open('/Users/user/PycharmProjects/DL_hands/open/data2/fingers_info00'+str(n), \"wb\") as f:\n",
    "                np.save(f, tmp)\n",
    "        elif n<100:\n",
    "            with open('/Users/user/PycharmProjects/DL_hands/open/data2/fingers_info0'+str(n), \"wb\") as f:\n",
    "                np.save(f, tmp)\n",
    "        else:\n",
    "            with open('/Users/user/PycharmProjects/DL_hands/open/data2/fingers_info'+str(n), \"wb\") as f:\n",
    "                np.save(f, tmp)\n",
    "        return None\n",
    "    else:\n",
    "        return n"
   ]
  },
  {
   "cell_type": "code",
   "execution_count": 98,
   "id": "8675b458-0abb-40be-8e10-2e1c28baa270",
   "metadata": {},
   "outputs": [
    {
     "name": "stderr",
     "output_type": "stream",
     "text": [
      "100%|███████████████████████████████████████████| 13/13 [00:31<00:00,  2.45s/it]\n"
     ]
    }
   ],
   "source": [
    "failed_clips2 = []\n",
    "for i in tqdm(failed_clips):\n",
    "    num = npsave2(i)\n",
    "    \n",
    "    if num != None:\n",
    "        failed_clips2.append(num)\n",
    "    "
   ]
  },
  {
   "cell_type": "code",
   "execution_count": 35,
   "id": "9f8bd978-0312-4e45-9b6e-586d38253b75",
   "metadata": {},
   "outputs": [
    {
     "data": {
      "text/plain": [
       "array([  8,  74,  82, 126, 149, 211, 213, 278, 284, 312, 386, 457, 564])"
      ]
     },
     "execution_count": 35,
     "metadata": {},
     "output_type": "execute_result"
    }
   ],
   "source": [
    "np.array(failed_clips)"
   ]
  },
  {
   "cell_type": "code",
   "execution_count": 132,
   "id": "c0c27665-e4c8-47d3-a9f3-c0d3d6d6f79a",
   "metadata": {},
   "outputs": [
    {
     "data": {
      "text/plain": [
       "array([ 74,  82, 126, 149, 211, 213, 278, 284, 312, 386, 457, 564])"
      ]
     },
     "execution_count": 132,
     "metadata": {},
     "output_type": "execute_result"
    }
   ],
   "source": [
    "np.array(failed_clips2)"
   ]
  },
  {
   "cell_type": "code",
   "execution_count": 41,
   "id": "98d7c5e6-dca8-4df2-be66-a9d3392dc0c9",
   "metadata": {},
   "outputs": [
    {
     "name": "stderr",
     "output_type": "stream",
     "text": [
      "100%|███████████████████████████████████████████| 13/13 [00:15<00:00,  1.23s/it]\n"
     ]
    }
   ],
   "source": [
    "failed_clips3 = []\n",
    "for i in tqdm(failed_clips2):\n",
    "    num = npsave2(i)\n",
    "    \n",
    "    if num != None:\n",
    "        failed_clips3.append(num)\n",
    "    \n",
    "    "
   ]
  },
  {
   "cell_type": "code",
   "execution_count": 44,
   "id": "df6dc5f2-3d6c-4225-b82e-fb4761a296ec",
   "metadata": {},
   "outputs": [
    {
     "data": {
      "text/plain": [
       "[74, 82, 126, 149, 211, 213, 278, 284, 312, 386, 457, 564]"
      ]
     },
     "execution_count": 44,
     "metadata": {},
     "output_type": "execute_result"
    }
   ],
   "source": [
    "failed_clips3"
   ]
  },
  {
   "cell_type": "code",
   "execution_count": 46,
   "id": "dbf14edd-8c17-497f-af6f-9ababc1b9d5d",
   "metadata": {},
   "outputs": [
    {
     "data": {
      "text/plain": [
       "{8}"
      ]
     },
     "execution_count": 46,
     "metadata": {},
     "output_type": "execute_result"
    }
   ],
   "source": [
    "set(failed_clips2)-set(failed_clips3)"
   ]
  },
  {
   "cell_type": "code",
   "execution_count": 47,
   "id": "8f8550d6-020a-4ad2-837e-3764bb8703d1",
   "metadata": {},
   "outputs": [
    {
     "name": "stderr",
     "output_type": "stream",
     "text": [
      "100%|███████████████████████████████████████████| 13/13 [00:15<00:00,  1.22s/it]\n"
     ]
    }
   ],
   "source": [
    "failed_clips3 = []\n",
    "for i in tqdm(failed_clips2):\n",
    "    num = npsave2(i)\n",
    "    \n",
    "    if num != None:\n",
    "        failed_clips3.append(num)"
   ]
  },
  {
   "cell_type": "code",
   "execution_count": 134,
   "id": "9a6fd2c2-ada6-4e9f-bc4d-bd9774db03a8",
   "metadata": {},
   "outputs": [],
   "source": [
    "def gamma(img, num):\n",
    "    g = num\n",
    "    #g = float(input(\"감마 값 : \"))\n",
    "    out = img.copy()\n",
    "    #out = img.astype(np.float)\n",
    "    out = ((out / 255) ** (1 / g)) * 255\n",
    "    out = out.astype(np.uint8)\n",
    "    return out"
   ]
  },
  {
   "cell_type": "code",
   "execution_count": 174,
   "id": "06f6aa37-ca20-485a-8d1e-6555f38be799",
   "metadata": {},
   "outputs": [],
   "source": [
    "def play_bright(cap, g):\n",
    "    data = np.array([])\n",
    "\n",
    "    while cap.isOpened():\n",
    "        ret, img = cap.read()\n",
    "\n",
    "        if ret:\n",
    "            imgRGB = cv2.cvtColor(img, cv2.COLOR_BGR2RGB)\n",
    "            imgRGB = gamma(imgRGB, g)\n",
    "            #imgRGB = saturate_contrast(imgRGB, 1.1)\n",
    "            results = hands.process(imgRGB)\n",
    "\n",
    "            ###### Data \n",
    "            if results.multi_hand_landmarks:\n",
    "                for res in results.multi_hand_landmarks:\n",
    "                    mpDraw.draw_landmarks(img, res, mpHands.HAND_CONNECTIONS)\n",
    "                    joint = np.zeros((21, 3))\n",
    "                    for id, lm in enumerate(res.landmark):\n",
    "                        joint[id] = [lm.x, lm.y, lm.z]\n",
    "\n",
    "                    # Compute Angles (1) (2) (3) Fingers\n",
    "                    v1 = joint[[0,1,2,3,0,5,6,7,0,9,10,11,0,13,14,15,0,17,18,19], :3] # Parent joint\n",
    "                    v2 = joint[[1,2,3,4,5,6,7,8,9,10,11,12,13,14,15,16,17,18,19,20], :3] # Child joint\n",
    "                    v = v2 - v1\n",
    "\n",
    "                    v = v / np.linalg.norm(v, axis=1)[:, np.newaxis]\n",
    "\n",
    "                    angle = np.arccos(np.einsum('nt,nt->n',\n",
    "                        v[[0,1,2,4,5,6,8,9,10,12,13,14,16,17,18],:], \n",
    "                        v[[1,2,3,5,6,7,9,10,11,13,14,15,17,18,19],:])) # (15,0)\n",
    "                    \n",
    "                    # rad 2 deg\n",
    "                    angle = np.degrees(angle)\n",
    "                    angle = np.array(angle, dtype=np.int32)\n",
    "\n",
    "                    tmp = np.array([angle])\n",
    "                    tmp = tmp.flatten()\n",
    "                    data = np.append(data, tmp)\n",
    "                    \n",
    "        else:\n",
    "            cap.release()\n",
    "            break\n",
    "        img2 = cv2.cvtColor(imgRGB, cv2.COLOR_BGR2RGB)\n",
    "        cv2.imshow(\"Image\", img2)\n",
    "        cv2.waitKey(1)\n",
    "        cv2.destroyAllWindows()\n",
    "    return np.array(data, dtype=np.int32)"
   ]
  },
  {
   "cell_type": "code",
   "execution_count": 175,
   "id": "e1b5d3bc-c3c1-4008-8753-2e7f9cd2b79b",
   "metadata": {},
   "outputs": [],
   "source": [
    "def npsave_bright(n, g):\n",
    "    cp = fileload(n)\n",
    "    tmp = play_bright(cp, g)\n",
    "    if (len(tmp) > 0):\n",
    "        if n<10:\n",
    "            with open('/Users/user/PycharmProjects/DL_hands/open/data2/fingers_info00'+str(n), \"wb\") as f:\n",
    "                np.save(f, tmp)\n",
    "        elif n<100:\n",
    "            with open('/Users/user/PycharmProjects/DL_hands/open/data2/fingers_info0'+str(n), \"wb\") as f:\n",
    "                np.save(f, tmp)\n",
    "        else:\n",
    "            with open('/Users/user/PycharmProjects/DL_hands/open/data2/fingers_info'+str(n), \"wb\") as f:\n",
    "                np.save(f, tmp)\n",
    "        return None\n",
    "    else:\n",
    "        return n"
   ]
  },
  {
   "cell_type": "code",
   "execution_count": 180,
   "id": "f2bb45c1-698b-4772-953f-fa477a09d71c",
   "metadata": {},
   "outputs": [
    {
     "ename": "KeyboardInterrupt",
     "evalue": "",
     "output_type": "error",
     "traceback": [
      "\u001b[0;31m---------------------------------------------------------------------------\u001b[0m",
      "\u001b[0;31mKeyboardInterrupt\u001b[0m                         Traceback (most recent call last)",
      "Cell \u001b[0;32mIn[180], line 4\u001b[0m\n\u001b[1;32m      2\u001b[0m \u001b[38;5;28;01mfor\u001b[39;00m i \u001b[38;5;129;01min\u001b[39;00m failed_clips2:\n\u001b[1;32m      3\u001b[0m     \u001b[38;5;28;01mfor\u001b[39;00m j \u001b[38;5;129;01min\u001b[39;00m \u001b[38;5;28mrange\u001b[39m(\u001b[38;5;241m8\u001b[39m, \u001b[38;5;241m20\u001b[39m):\n\u001b[0;32m----> 4\u001b[0m         num \u001b[38;5;241m=\u001b[39m \u001b[43mnpsave_bright\u001b[49m\u001b[43m(\u001b[49m\u001b[43mi\u001b[49m\u001b[43m,\u001b[49m\u001b[43m \u001b[49m\u001b[43mj\u001b[49m\u001b[38;5;241;43m/\u001b[39;49m\u001b[38;5;241;43m10\u001b[39;49m\u001b[43m)\u001b[49m\n\u001b[1;32m      6\u001b[0m         \u001b[38;5;28;01mif\u001b[39;00m num \u001b[38;5;241m==\u001b[39m \u001b[38;5;28;01mNone\u001b[39;00m:\n\u001b[1;32m      7\u001b[0m             failed_clips2\u001b[38;5;241m.\u001b[39mremove(i)\n",
      "Cell \u001b[0;32mIn[175], line 3\u001b[0m, in \u001b[0;36mnpsave_bright\u001b[0;34m(n, g)\u001b[0m\n\u001b[1;32m      1\u001b[0m \u001b[38;5;28;01mdef\u001b[39;00m \u001b[38;5;21mnpsave_bright\u001b[39m(n, g):\n\u001b[1;32m      2\u001b[0m     cp \u001b[38;5;241m=\u001b[39m fileload(n)\n\u001b[0;32m----> 3\u001b[0m     tmp \u001b[38;5;241m=\u001b[39m \u001b[43mplay_bright\u001b[49m\u001b[43m(\u001b[49m\u001b[43mcp\u001b[49m\u001b[43m,\u001b[49m\u001b[43m \u001b[49m\u001b[43mg\u001b[49m\u001b[43m)\u001b[49m\n\u001b[1;32m      4\u001b[0m     \u001b[38;5;28;01mif\u001b[39;00m (\u001b[38;5;28mlen\u001b[39m(tmp) \u001b[38;5;241m>\u001b[39m \u001b[38;5;241m0\u001b[39m):\n\u001b[1;32m      5\u001b[0m         \u001b[38;5;28;01mif\u001b[39;00m n\u001b[38;5;241m<\u001b[39m\u001b[38;5;241m10\u001b[39m:\n",
      "Cell \u001b[0;32mIn[174], line 45\u001b[0m, in \u001b[0;36mplay_bright\u001b[0;34m(cap, g)\u001b[0m\n\u001b[1;32m     43\u001b[0m     img2 \u001b[38;5;241m=\u001b[39m cv2\u001b[38;5;241m.\u001b[39mcvtColor(imgRGB, cv2\u001b[38;5;241m.\u001b[39mCOLOR_BGR2RGB)\n\u001b[1;32m     44\u001b[0m     cv2\u001b[38;5;241m.\u001b[39mimshow(\u001b[38;5;124m\"\u001b[39m\u001b[38;5;124mImage\u001b[39m\u001b[38;5;124m\"\u001b[39m, img2)\n\u001b[0;32m---> 45\u001b[0m     \u001b[43mcv2\u001b[49m\u001b[38;5;241;43m.\u001b[39;49m\u001b[43mwaitKey\u001b[49m\u001b[43m(\u001b[49m\u001b[38;5;241;43m1\u001b[39;49m\u001b[43m)\u001b[49m\n\u001b[1;32m     46\u001b[0m     cv2\u001b[38;5;241m.\u001b[39mdestroyAllWindows()\n\u001b[1;32m     47\u001b[0m \u001b[38;5;28;01mreturn\u001b[39;00m np\u001b[38;5;241m.\u001b[39marray(data, dtype\u001b[38;5;241m=\u001b[39mnp\u001b[38;5;241m.\u001b[39mint32)\n",
      "\u001b[0;31mKeyboardInterrupt\u001b[0m: "
     ]
    }
   ],
   "source": [
    "while failed_clips2:\n",
    "    for i in failed_clips2:\n",
    "        for j in range(8, 20):\n",
    "            num = npsave_bright(i, j/10)\n",
    "            \n",
    "            if num == None:\n",
    "                failed_clips2.remove(i)\n",
    "                break\n"
   ]
  },
  {
   "cell_type": "code",
   "execution_count": 181,
   "id": "d414e03b-2b49-4722-a092-7b68392cca2b",
   "metadata": {},
   "outputs": [
    {
     "data": {
      "text/plain": [
       "[213, 278, 312, 457]"
      ]
     },
     "execution_count": 181,
     "metadata": {},
     "output_type": "execute_result"
    }
   ],
   "source": [
    "failed_clips2\n"
   ]
  },
  {
   "cell_type": "code",
   "execution_count": null,
   "id": "6bf47edd-b414-4e56-921d-8b2e733d4ffc",
   "metadata": {},
   "outputs": [],
   "source": []
  }
 ],
 "metadata": {
  "kernelspec": {
   "display_name": "Python 3 (ipykernel)",
   "language": "python",
   "name": "python3"
  },
  "language_info": {
   "codemirror_mode": {
    "name": "ipython",
    "version": 3
   },
   "file_extension": ".py",
   "mimetype": "text/x-python",
   "name": "python",
   "nbconvert_exporter": "python",
   "pygments_lexer": "ipython3",
   "version": "3.9.5"
  }
 },
 "nbformat": 4,
 "nbformat_minor": 5
}
